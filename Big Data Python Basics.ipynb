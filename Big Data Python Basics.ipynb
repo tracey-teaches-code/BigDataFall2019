{
 "cells": [
  {
   "cell_type": "markdown",
   "metadata": {},
   "source": [
    "# Big Data Python Basics"
   ]
  },
  {
   "cell_type": "markdown",
   "metadata": {},
   "source": [
    "### What is This Document?"
   ]
  },
  {
   "cell_type": "markdown",
   "metadata": {},
   "source": [
    "This document is a collection of sample Python examples with detailed explanations in comment form. It is intended as a quickstart to using Python in the Big Data and Analytics class and as an assorted collection of sample code that will be useful for labs.It is *NOT* a detailed tutorial for learning Python. "
   ]
  },
  {
   "cell_type": "markdown",
   "metadata": {},
   "source": [
    "Have questions? For more details about Python, try these resources:\n",
    "* Python wiki, for full set of resources: https://wiki.python.org/moin/\n",
    "* Long list of Python tutorials: https://wiki.python.org/moin/BeginnersGuide/NonProgrammers\n",
    "* Most interesting tutorials (I've not gone through all of them so feedback welcome)\n",
    "    * Free online book \"A Byte of Python\": https://python.swaroopch.com\n",
    "    * Intro to Python for Data Scientists: https://www.datacamp.com/courses/intro-to-python-for-data-science\n",
    "    * Curated list of turorials: http://docs.python-guide.org/en/latest/intro/learning/\n",
    "    \n",
    "* Learn more about Markdown: https://daringfireball.net/projects/markdown/"
   ]
  },
  {
   "cell_type": "markdown",
   "metadata": {},
   "source": [
    "## Printing examples"
   ]
  },
  {
   "cell_type": "markdown",
   "metadata": {},
   "source": [
    "### Basic way to print a string \n",
    "\n",
    "##### What's a string? \n",
    " 1. A way to work with letters, special characters, spaces, individual digits (as opposed to the numbers)\n",
    " 2. The characters go inside a single quote ' or double quote \" (called delimiters)\n"
   ]
  },
  {
   "cell_type": "code",
   "execution_count": 1,
   "metadata": {},
   "outputs": [
    {
     "name": "stdout",
     "output_type": "stream",
     "text": [
      "hello world\n",
      "hello Zaphod Beeblebrox\n"
     ]
    }
   ],
   "source": [
    "print ('hello world')\n",
    "print (\"hello Zaphod Beeblebrox\")"
   ]
  },
  {
   "cell_type": "markdown",
   "metadata": {},
   "source": [
    "#### Basic way to print just a number or a numerical calculation"
   ]
  },
  {
   "cell_type": "code",
   "execution_count": 2,
   "metadata": {},
   "outputs": [
    {
     "name": "stdout",
     "output_type": "stream",
     "text": [
      "42\n",
      "1.6666666666666665\n"
     ]
    }
   ],
   "source": [
    "print (42)\n",
    "print (1+1*2/3)"
   ]
  },
  {
   "cell_type": "markdown",
   "metadata": {},
   "source": [
    "#### Basic way to mix strings and numbers\n"
   ]
  },
  {
   "cell_type": "code",
   "execution_count": 3,
   "metadata": {},
   "outputs": [
    {
     "name": "stdout",
     "output_type": "stream",
     "text": [
      "1 + 1 =  2\n",
      "Average of 1, 2, 10 is: 4.333333333333333\n"
     ]
    }
   ],
   "source": [
    "print (\"1 + 1 = \", 1+1)\n",
    "print (\"Average of 1, 2, 10 is:\", (1+2+10)/3.0)"
   ]
  },
  {
   "cell_type": "markdown",
   "metadata": {},
   "source": [
    "#### A more detailed example, using formatting to make the answer easier to read"
   ]
  },
  {
   "cell_type": "code",
   "execution_count": 4,
   "metadata": {},
   "outputs": [
    {
     "name": "stdout",
     "output_type": "stream",
     "text": [
      "Average of 1, 2, 10 is: 4.33\n"
     ]
    }
   ],
   "source": [
    "print (\"Average of 1, 2, 10 is: %.2f\" % ((1+2+10)/3))"
   ]
  },
  {
   "cell_type": "markdown",
   "metadata": {},
   "source": [
    "## Variable and types"
   ]
  },
  {
   "cell_type": "markdown",
   "metadata": {},
   "source": [
    "#### A very brief introduction to Python variables\n",
    "* Variables are a way to hold and store values\n",
    "* A variable can only hold a single value at any time\n",
    "* Python variables can be numerical, a string of characters, boolean (true or false), or other things, as we'll see soon\n",
    "\n",
    "* To set a value for a variable, put the name on the left of an equal sign and the value on the right\n",
    "   * example: cookie = \"Chocolate Chip\"\n",
    "   * setting a new value for a variable overwrites (erases) the old one\n",
    "* To use the value in a variable, put its name on the right side of the equal sign, Then its current value will be used in the calculation\n",
    "    * height = 42\n",
    "    * double_height = height + height"
   ]
  },
  {
   "cell_type": "code",
   "execution_count": 5,
   "metadata": {},
   "outputs": [
    {
     "name": "stdout",
     "output_type": "stream",
     "text": [
      "Average of a, b, and c is: 26.6667\n"
     ]
    }
   ],
   "source": [
    "# examples of setting numerical variables\n",
    "a=10\n",
    "b=30\n",
    "c= a + b\n",
    "\n",
    "# examples of using numerical values\n",
    "print(\"Average of a, b, and c is: %.4f\" % ((a+b+c)/3))"
   ]
  },
  {
   "cell_type": "code",
   "execution_count": 6,
   "metadata": {},
   "outputs": [
    {
     "name": "stdout",
     "output_type": "stream",
     "text": [
      "1 Zaphod Beeblebrox True\n"
     ]
    }
   ],
   "source": [
    "# examples with different variable types: numerical, string, and boolean\n",
    "nbr=1\n",
    "name=\"Zaphod Beeblebrox\"\n",
    "truth=True\n",
    "print(nbr, name, truth)"
   ]
  },
  {
   "cell_type": "code",
   "execution_count": 7,
   "metadata": {},
   "outputs": [
    {
     "name": "stdout",
     "output_type": "stream",
     "text": [
      "Type of the variable nbr is  <class 'int'>\n",
      "Type of the variable name is  <class 'str'>\n",
      "Type of the variable truth  <class 'bool'>\n",
      "Type of the non-integer number pi is  <class 'float'>\n",
      "3.141592653589793\n",
      "pi\n"
     ]
    }
   ],
   "source": [
    "# variables have types\n",
    "# types help determine the operations you can use on a variable\n",
    "# operations are called methods\n",
    "\n",
    "print(\"Type of the variable nbr is \", type(nbr))\n",
    "print(\"Type of the variable name is \", type(name))\n",
    "print(\"Type of the variable truth \", type(truth))\n",
    "\n",
    "pi = 3.14159265358979328462643383279\n",
    "print(\"Type of the non-integer number pi is \", type(pi))\n",
    "print(pi)\n",
    "print('pi')\n"
   ]
  },
  {
   "cell_type": "code",
   "execution_count": 8,
   "metadata": {},
   "outputs": [
    {
     "name": "stdout",
     "output_type": "stream",
     "text": [
      "8 0 16 1.0 256 -4\n",
      "ArthurDent\n",
      "1.3333333333333333 1 1 1\n"
     ]
    }
   ],
   "source": [
    "#you can perform operations on variables\n",
    "nbr = 4\n",
    "print(nbr+nbr, nbr-nbr, nbr*nbr, nbr/nbr, nbr**nbr, -nbr )\n",
    "\n",
    "print(\"Arthur\"  + \"Dent\")\n",
    "\n",
    "print (nbr/3, nbr//3, round(nbr/3), nbr%3)"
   ]
  },
  {
   "cell_type": "markdown",
   "metadata": {},
   "source": [
    "## Lists  "
   ]
  },
  {
   "cell_type": "markdown",
   "metadata": {
    "collapsed": true
   },
   "source": [
    "If you want to store more than one item, a list is the best way to go. \n",
    "These are somewhat similar to arrays in other languages. The list is itself a variable, and every item in the list is also a variable, but has special name. \n",
    "\n",
    "For example, a_list = ['a', 'b', 'c'] creates a list with three alphabetical characters in it. \n",
    "\n",
    "Each item in the list has its own variable name:\n",
    "* a_list[0] holds the value 'a'\n",
    "* a_list[1] holds the value 'b'\n",
    "* a_list[2] holds the value 'c'. \n",
    "\n",
    "Notice that the number in the brackets[] start at 0 and end at one less than the length of the list.\n"
   ]
  },
  {
   "cell_type": "markdown",
   "metadata": {},
   "source": [
    "#### Python lets you make a list of things\n",
    "* other languages sometimes call these arrays (there are subtle differences but we don't care right now)"
   ]
  },
  {
   "cell_type": "code",
   "execution_count": 9,
   "metadata": {},
   "outputs": [],
   "source": [
    "name = \"Tracey\"\n",
    "favFruits = [\"apple\", \"orange\", \"banana\", \"peach\", \"dragonfruit\", \"lychee\", \"jackfruit\", \"papaya\", \"blueberry\"]\n",
    "favVeggies = [] #this is an empty list. Its a list type, but has nothing in it"
   ]
  },
  {
   "cell_type": "markdown",
   "metadata": {},
   "source": [
    "#### Print everything in the list just by using its name"
   ]
  },
  {
   "cell_type": "code",
   "execution_count": 10,
   "metadata": {},
   "outputs": [
    {
     "name": "stdout",
     "output_type": "stream",
     "text": [
      "['apple', 'orange', 'banana', 'peach', 'dragonfruit', 'lychee', 'jackfruit', 'papaya', 'blueberry']\n",
      "[]\n",
      "<class 'list'>\n",
      "<class 'list'>\n"
     ]
    }
   ],
   "source": [
    "print(favFruits)\n",
    "print(favVeggies)\n",
    "print (type(favFruits))\n",
    "print(type(favVeggies))"
   ]
  },
  {
   "cell_type": "markdown",
   "metadata": {},
   "source": [
    "#### Print just one thing in a list with ther name of the list, a pair of brackets, and its index (the number inside the brackets)\n",
    "* like most coding languages, lists start at nbr 0, and go to n-1\n",
    "* notice that the thing printed is NOT in brackets. Its just a variable and not a list. "
   ]
  },
  {
   "cell_type": "code",
   "execution_count": 11,
   "metadata": {},
   "outputs": [
    {
     "name": "stdout",
     "output_type": "stream",
     "text": [
      "orange\n",
      "dragonfruit\n"
     ]
    }
   ],
   "source": [
    "print(favFruits[1])\n",
    "print(favFruits[4])"
   ]
  },
  {
   "cell_type": "markdown",
   "metadata": {},
   "source": [
    "#### A list can have different types (heads up - this is not true for other languages)"
   ]
  },
  {
   "cell_type": "code",
   "execution_count": 12,
   "metadata": {},
   "outputs": [
    {
     "name": "stdout",
     "output_type": "stream",
     "text": [
      "['petunia', 42, False]\n"
     ]
    }
   ],
   "source": [
    "mixItUp = [\"petunia\", 42, False]\n",
    "print(mixItUp)"
   ]
  },
  {
   "cell_type": "markdown",
   "metadata": {},
   "source": [
    "#### You can add things to lists"
   ]
  },
  {
   "cell_type": "code",
   "execution_count": 13,
   "metadata": {},
   "outputs": [
    {
     "name": "stdout",
     "output_type": "stream",
     "text": [
      "['apple', 'orange', 'banana', 'peach', 'dragonfruit', 'lychee', 'jackfruit', 'papaya', 'blueberry', 'strawberry', 'raspberry']\n"
     ]
    }
   ],
   "source": [
    "favFruits.append(\"strawberry\")\n",
    "favFruits.append(\"raspberry\")\n",
    "print(favFruits)"
   ]
  },
  {
   "cell_type": "markdown",
   "metadata": {},
   "source": [
    "#### You can select 'slices' of lists\n",
    "* notice the values of the two numbers\n",
    "  * first number is the index of the first list item you want in the slice\n",
    "  * the second number is index one PAST the item you want (who know why? It just is)\n",
    "  * the colon indicates you want a 'slice' of the index"
   ]
  },
  {
   "cell_type": "code",
   "execution_count": 14,
   "metadata": {},
   "outputs": [
    {
     "name": "stdout",
     "output_type": "stream",
     "text": [
      "['orange', 'banana']\n",
      "['apple', 'orange', 'banana', 'peach']\n"
     ]
    }
   ],
   "source": [
    "print(favFruits[1:3])\n",
    "print(favFruits[0:4])"
   ]
  },
  {
   "cell_type": "markdown",
   "metadata": {
    "collapsed": true
   },
   "source": [
    "## Mathematical Calculations - Minimum, Maximum, Averages\n",
    "\n",
    "* Jupyter notebooks let you perform calculations right in your notebook. That's what is meant by it being interactive.\n",
    "* Not only can you do calculations right in this document, you can make updates to your equations and run them again.\n",
    "* This means you can develop and refine your analysis right in your working lab report\n",
    "\n",
    "Python uses functions to automate a great many calculations, just like your graphing calculator does. Unlike your graphing calculator though, you have access to hundreds of thousands of functions. You can even learn to write your own.\n",
    "\n",
    "IN this section, we'll explore some common mathematical functions, and see how to use them in Python"
   ]
  },
  {
   "cell_type": "code",
   "execution_count": 15,
   "metadata": {},
   "outputs": [],
   "source": [
    "# if you have a list of numbers then you can do mathematical calculations \n",
    "someNbrs = [10,24,43,66,87,105,326,526,601,744]\n"
   ]
  },
  {
   "cell_type": "markdown",
   "metadata": {},
   "source": [
    "### min and max"
   ]
  },
  {
   "cell_type": "code",
   "execution_count": 16,
   "metadata": {},
   "outputs": [
    {
     "name": "stdout",
     "output_type": "stream",
     "text": [
      "Range of values is  10  to  744\n"
     ]
    }
   ],
   "source": [
    "# finding the minimum and maximum numbers in a list is easy - you just call functions min and max\n",
    "minNbr = min(someNbrs)\n",
    "maxNbr = max(someNbrs)\n",
    "\n",
    "print(\"Range of values is \", minNbr, \" to \", maxNbr)"
   ]
  },
  {
   "cell_type": "markdown",
   "metadata": {},
   "source": [
    "### average (the mean)"
   ]
  },
  {
   "cell_type": "code",
   "execution_count": 17,
   "metadata": {},
   "outputs": [
    {
     "name": "stdout",
     "output_type": "stream",
     "text": [
      "Nbr of values is  10\n",
      "Total sum of values is  2532\n",
      "Average of values is  253.2\n",
      "Mean (average) of values is 253.2\n"
     ]
    }
   ],
   "source": [
    "# to count how many items are in the list, use the function len\n",
    "count = len(someNbrs)\n",
    "print(\"Nbr of values is \", count)\n",
    "\n",
    "# to add up all the items in the list, use the function sum\n",
    "total = sum(someNbrs)\n",
    "print(\"Total sum of values is \", total)\n",
    "\n",
    "# you can then use these two values to calculate the average (also called the mean)\n",
    "avg=total/count\n",
    "print(\"Average of values is \", avg)\n",
    "\n",
    "# or, use the function statistics.mean to do the calculations\n",
    "# you must include the import statistics line first\n",
    "import statistics\n",
    "another_mean = statistics.mean(someNbrs)\n",
    "print(\"Mean (average) of values is\", another_mean)"
   ]
  },
  {
   "cell_type": "code",
   "execution_count": 18,
   "metadata": {},
   "outputs": [
    {
     "name": "stdout",
     "output_type": "stream",
     "text": [
      "10\n",
      "34\n",
      "77\n",
      "143\n",
      "230\n",
      "335\n",
      "661\n",
      "1187\n",
      "1788\n",
      "2532\n",
      "Total:  2532 Nbr items:  10 Average:  253.2\n"
     ]
    }
   ],
   "source": [
    "# doing an average \"old school\"\n",
    "# need to *loop* through the list and add all the values\n",
    "# then divide by the number of items in the list\n",
    "\n",
    "total = 0; #variable to hold our total\n",
    "nbrListItems = len(someNbrs); # len is the length of the list, or the number if things in the list\n",
    "\n",
    "# main loop; ii is loop counter, \n",
    "# range is part of the list we want to loop through - in this case, the entire length of the list\n",
    "for ii in range(nbrListItems):\n",
    "    # in python, you need to indent spaces for the code you want to loop over\n",
    "    total = total + someNbrs[ii]; #add the current list item at ii to the running total\n",
    "    print (total);\n",
    "avg = total/nbrListItems;\n",
    "print(\"Total: \", total, \"Nbr items: \", len(someNbrs), \"Average: \", avg)"
   ]
  },
  {
   "cell_type": "markdown",
   "metadata": {},
   "source": [
    "### Median"
   ]
  },
  {
   "cell_type": "code",
   "execution_count": 19,
   "metadata": {},
   "outputs": [
    {
     "name": "stdout",
     "output_type": "stream",
     "text": [
      "Median (middle value) of values is  96.0\n"
     ]
    }
   ],
   "source": [
    "# Use the function statistics.median to do the calculations\n",
    "# you must include the import statistics line first ONLY if you didn't do it in an earlier cell\n",
    "med = statistics.median(someNbrs)\n",
    "print(\"Median (middle value) of values is \", med)"
   ]
  },
  {
   "cell_type": "code",
   "execution_count": 20,
   "metadata": {},
   "outputs": [
    {
     "name": "stdout",
     "output_type": "stream",
     "text": [
      "Nbr List items 10 Halfway point:  5 Median:  96.0\n"
     ]
    }
   ],
   "source": [
    "#what about median? Need a list in sorted order\n",
    "# there are some subtleties to using methods to sort in python.\n",
    "# the .sort method will rearrange the existing list in sorted order\n",
    "# other ways to sort create a copy of the list in sorted order and preserve the original list\n",
    "\n",
    "someNbrs.sort();  # sort the list. It's that easy\n",
    "\n",
    "import math;\n",
    "halfwayPoint = math.floor(nbrListItems/2);\n",
    "\n",
    "#to determine if a number is even or odd, take the modulo of 2 and check remainder; \n",
    "# 0 remainder means even\n",
    "if (nbrListItems % 2) == 0: \n",
    "    median = (someNbrs[halfwayPoint] + someNbrs[halfwayPoint-1])/2;\n",
    "else: # the halfway point is an odd number, so the median is the middle number\n",
    "    median = someNbrs[halfwayPoint];\n",
    "    \n",
    "print(\"Nbr List items\", nbrListItems, \"Halfway point: \", halfwayPoint, \"Median: \", median);"
   ]
  },
  {
   "cell_type": "markdown",
   "metadata": {
    "collapsed": true
   },
   "source": [
    "## Reading File Data"
   ]
  },
  {
   "cell_type": "markdown",
   "metadata": {
    "collapsed": true
   },
   "source": [
    "To do anything useful in these notebooks, we need data, specifically datasets. The most common (and easiest) way that datasets are created ansd stored is in a CSV file. We are going to explore how to get the data out of the csv file and into a form that we can then perform Python calculations on.\n",
    "\n",
    "###CSV files\n",
    "* csv stand for comma separated values.  \n",
    "* **csv file** - simple text document with data in text form (characters and not binary) where the fields (data columns) are separated by commas\n",
    "* csv files are a common way to store datasets \n",
    "\n",
    "Common algorithm is to open a csv file and read the data into a list structure\n",
    "      1. open command sets a 'pointer' to the beginning of file\n",
    "      2. the pointer moves through the file as the values are 'read'\n",
    "             * you can store each value as its read in a list\n",
    "      3. keep reading the file until no more data (the 'pointer' reaches the end of file)\n",
    "      4.  close the file after you are done\n",
    "Once you've read the data and put it into a list, you can then write code to process or analyze it"
   ]
  },
  {
   "cell_type": "markdown",
   "metadata": {},
   "source": [
    "### Opening Files For Reading"
   ]
  },
  {
   "cell_type": "markdown",
   "metadata": {},
   "source": [
    "* The trickiest part here is getting the right location for the file\n",
    "* file name is *relative* to the Anaconda folder system\n",
    "* this means that Fremont_bridge_data.csv is in a folder called FremontBridge in the Anaconda file system\n",
    "* you can organize your data files however you wish, just make sure the string matches your folder and file organization\n"
   ]
  },
  {
   "cell_type": "code",
   "execution_count": 21,
   "metadata": {},
   "outputs": [
    {
     "name": "stdout",
     "output_type": "stream",
     "text": [
      "['Date,Fremont Bridge West Sidewalk,Fremont Bridge East Sidewalk\\n', '9/1/15,1393,1483\\n', '9/2/15,1745,1867\\n', '9/3/15,1532,1627\\n', '9/4/15,1425,1512\\n']\n"
     ]
    }
   ],
   "source": [
    "#open the file\n",
    "data_file = open(\"Fremont_bridge_data.csv\", \"r\");\n",
    "\n",
    "#create an empty list to store the data from the csv file\n",
    "bridge_data = [];\n",
    "\n",
    "#put all lines from the file into a list\n",
    "for row in data_file:\n",
    "    bridge_data.append(row);\n",
    "    \n",
    "#close the file. It's the courteous and clean thing to do\n",
    "data_file.close();\n",
    "\n",
    "# show the first five items in the list. Notice that they are all strings\n",
    "# the \\n part of the string means \"newline\" - its the symbol that represents the end of a line\n",
    "print(bridge_data[:5]);\n"
   ]
  },
  {
   "cell_type": "markdown",
   "metadata": {},
   "source": [
    "## Processing File Data"
   ]
  },
  {
   "cell_type": "markdown",
   "metadata": {},
   "source": [
    "**Data Processing Goals**\n",
    "- Clean up and split the data into two lists, east and east\n",
    "-  This allows for further statistical analysis on cleaned up lists\n"
   ]
  },
  {
   "cell_type": "code",
   "execution_count": 22,
   "metadata": {
    "scrolled": true
   },
   "outputs": [
    {
     "name": "stdout",
     "output_type": "stream",
     "text": [
      "List of just the westbound data:[1393, 1745, 1532, 1425, 826, 466, 1107, 1733, 2070, 1961, 1863, 1178, 648, 1615, 1795, 1782, 1160, 1461, 981, 712, 1824, 2190, 2270, 2086, 1314, 899, 895, 1907, 2097, 1992]\n",
      "\n",
      "List of just the eastbound data:\n",
      "[1483, 1867, 1627, 1512, 770, 425, 898, 1932, 2243, 2069, 1898, 1013, 679, 1669, 1862, 1949, 1293, 1539, 853, 591, 1981, 2361, 2292, 2235, 1370, 869, 676, 1955, 2239, 2063]\n"
     ]
    }
   ],
   "source": [
    "#remove the first element (column header)\n",
    "# the header is useful for telling us what the columns mean, \n",
    "# but you don't want to include it in your mathematical calculations\n",
    "del bridge_data[0];\n",
    "\n",
    "# create two empty lists - one for westbound and one for eastbound bike data\n",
    "# we want to make a list of just the westbound data and just the eastbound data\n",
    "west = [];\n",
    "east = [];  \n",
    "\n",
    "# loop (go through every row one by one) through the original bridge_list\n",
    "for item in range(len(bridge_data)):\n",
    "    \n",
    "    # this line is a bit confusing, but what it is doing is splitting out each comma separated item \n",
    "    # from a row and turning it into a list \n",
    "    # for example, this line of code turns he single string '9/1/15,1393,1483\\n' \n",
    "    # into three separate strings '9/1/15' '1393' and '1483'\n",
    "    # After being split, the three separate strings are then stored in another list called bridge_row\n",
    "    bridge_row = bridge_data[item].split(\",\")\n",
    "    \n",
    "    #now that we've split the row into its three parts, we can pick and choose \n",
    "    # add the second and the third to specific lists for west and east\n",
    "    west.append(int(bridge_row[1]))\n",
    "    east.append(int(bridge_row[2]))\n",
    "\n",
    "print(\"List of just the westbound data:\")\n",
    "print(west)\n",
    "print(\"\\nList of just the eastbound data:\")\n",
    "print(east)"
   ]
  },
  {
   "cell_type": "markdown",
   "metadata": {},
   "source": [
    "# Analyzing Bridge Data\n",
    "\n",
    "Now you have the data in two lists - east and west. You can use the mathematical functions described in early sections to analyze your data.\n",
    "\n"
   ]
  },
  {
   "cell_type": "code",
   "execution_count": 23,
   "metadata": {},
   "outputs": [],
   "source": [
    "# This is a code cell\n",
    "# Try adding some code below to find the smallest number of bike commuters, the largest number, the average, and the median,\n",
    "# using the code examples from the section above\n",
    "\n"
   ]
  },
  {
   "cell_type": "markdown",
   "metadata": {
    "collapsed": true
   },
   "source": [
    "# What's Next?\n",
    "\n",
    "Be thinking about what sorts of questions you might ask, what other things you might need to do to prepare your datasets, and what sorts of analysis do you want to do on it.\n",
    "\n",
    "* Look for inspiration at: [http://www.seattle.gov/transportation/bikecounter_fremont.html](http://www.seattle.gov/transportation/bikecounter_fremont.htm#detail)\n",
    "* More details about bike counters:\n",
    " http://www.seattle.gov/transportation/bikecounter.htm\n",
    "* Dataset with daily bike counts:\n",
    " https://data.seattle.gov/Transportation/Fremont-Bridge-Daily-Bicycle-Counts/eytj-7qg9/data\n",
    "* Find more city data at:  https://data.seattle.gov"
   ]
  }
 ],
 "metadata": {
  "kernelspec": {
   "display_name": "Python 3",
   "language": "python",
   "name": "python3"
  },
  "language_info": {
   "codemirror_mode": {
    "name": "ipython",
    "version": 3
   },
   "file_extension": ".py",
   "mimetype": "text/x-python",
   "name": "python",
   "nbconvert_exporter": "python",
   "pygments_lexer": "ipython3",
   "version": "3.6.5"
  }
 },
 "nbformat": 4,
 "nbformat_minor": 2
}
